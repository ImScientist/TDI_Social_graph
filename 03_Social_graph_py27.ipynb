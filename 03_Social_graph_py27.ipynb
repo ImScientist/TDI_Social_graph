{
 "cells": [
  {
   "cell_type": "code",
   "execution_count": 1,
   "metadata": {},
   "outputs": [
    {
     "name": "stdout",
     "output_type": "stream",
     "text": [
      "2.7.14 |Anaconda custom (64-bit)| (default, Oct 15 2017, 03:34:40) [MSC v.1500 64 bit (AMD64)]\n"
     ]
    }
   ],
   "source": [
    "import sys\n",
    "print sys.version"
   ]
  },
  {
   "cell_type": "code",
   "execution_count": 1,
   "metadata": {
    "collapsed": true
   },
   "outputs": [],
   "source": [
    "%matplotlib inline\n",
    "import matplotlib\n",
    "import seaborn as sns\n",
    "import pandas as pd\n",
    "import numpy as np\n",
    "import time\n",
    "\n",
    "import requests, dill, re\n",
    "from bs4 import BeautifulSoup\n",
    "import nltk#, spacy\n",
    "\n",
    "from datetime import datetime, date\n",
    "from requests_futures.sessions import FuturesSession\n",
    "from concurrent.futures import ThreadPoolExecutor"
   ]
  },
  {
   "cell_type": "markdown",
   "metadata": {},
   "source": [
    "# The New York Social Graph\n",
    "\n",
    "[New York Social Diary](http://www.newyorksocialdiary.com/party-pictures) provides a\n",
    "fascinating lens onto New York's socially well-to-do.  The data forms a natural social graph for New York's social elite.\n",
    "\n",
    "Besides the brand-name celebrities, you will notice the photos have carefully annotated captions labeling those that appear in the photos.  We can think of this as implicitly implying a social graph: there is a connection between two individuals if they appear in a picture together.\n",
    "\n",
    "For this project, we will assemble the social graph from photo captions for parties dated December 1, 2007, and before. Using this graph, we can make guesses at the most popular socialites, the most influential people, and the most tightly coupled pairs."
   ]
  },
  {
   "cell_type": "markdown",
   "metadata": {},
   "source": [
    "## Phase One\n",
    "\n",
    "Define a function that extracts information (link and date) for every event. "
   ]
  },
  {
   "cell_type": "code",
   "execution_count": 2,
   "metadata": {
    "collapsed": true
   },
   "outputs": [],
   "source": [
    "from requests_futures.sessions import FuturesSession\n",
    "from concurrent.futures import ThreadPoolExecutor\n",
    "\n",
    "def generate_actual_url(it):\n",
    "    return 'http://www.newyorksocialdiary.com/party-pictures?page=' + str(it)\n",
    "\n",
    "def get_list_with_links(future):\n",
    "\n",
    "    soup = BeautifulSoup(future.result().text, 'lxml')\n",
    "    \n",
    "    links, dates = [], []\n",
    "    for el in soup.find_all('span', attrs={'class':'field-content'}):\n",
    "        try:\n",
    "            links.append(el.find('a').get('href'))\n",
    "        except: \n",
    "            dates.append(datetime.strptime(el.text, '%A, %B %d, %Y'))           \n",
    "    \n",
    "    return links, dates\n",
    "            \n",
    "\n",
    "\n",
    "url_list = [generate_actual_url(it) for it in range(30)]\n",
    "cut_date = datetime.strptime('2007-12-01 00:00:00', '%Y-%m-%d %H:%M:%S')\n",
    "\n",
    "\n",
    "session = FuturesSession(max_workers=10)\n",
    "futures = [session.get(url) for url in url_list]\n",
    "\n",
    "all_links, all_dates = [], []\n",
    "\n",
    "for future in futures:\n",
    "    links, dates = get_list_with_links(future)\n",
    "    all_links.extend(links)\n",
    "    all_dates.extend(dates)\n",
    "\n",
    "all_YM_dates = np.array([ date(item.year, item.month, 1) for item in all_dates]) \n",
    "    \n",
    "df = pd.DataFrame({'links': all_links, 'dates': all_dates, 'dates_YM': all_YM_dates})\n",
    "df = df[df['dates']<=cut_date]"
   ]
  },
  {
   "cell_type": "code",
   "execution_count": 6,
   "metadata": {},
   "outputs": [
    {
     "data": {
      "text/plain": [
       "<matplotlib.axes._subplots.AxesSubplot at 0x11e8c5c0>"
      ]
     },
     "execution_count": 6,
     "metadata": {},
     "output_type": "execute_result"
    },
    {
     "data": {
      "image/png": "[encoded data removed]",
      "text/plain": [
       "<matplotlib.figure.Figure at 0x13fc4940>"
      ]
     },
     "metadata": {},
     "output_type": "display_data"
    }
   ],
   "source": [
    "df[['dates_YM', 'links']].groupby('dates_YM').count().rename(index=str, columns={'links': 'number of events'}).plot(kind=\"bar\", figsize=(14,6))"
   ]
  },
  {
   "cell_type": "markdown",
   "metadata": {},
   "source": [
    "## Phase Two\n",
    "\n",
    "Define a function that finds all photocaptions in a given web page and returns them as a list."
   ]
  },
  {
   "cell_type": "code",
   "execution_count": 7,
   "metadata": {
    "collapsed": true
   },
   "outputs": [],
   "source": [
    "def remove_non_ascii_1(text):\n",
    "    return ''.join([i if ord(i) < 128 else ' ' for i in text])\n",
    "\n",
    "def get_captions(url):\n",
    "    '''\n",
    "    Obtain a list of all photocaptions in a given web page.\n",
    "    '''\n",
    "    captions = []\n",
    "    soup = BeautifulSoup(requests.get(url).text, 'lxml')\n",
    "    \n",
    "    for el in soup.find_all('div', attrs={'class':'photocaption'}):\n",
    "        try: captions.append(el.text.strip().replace(\"  \", \" \"))\n",
    "        except: pass\n",
    "        \n",
    "    for el in soup.find_all('font', attrs={'size':'1'}):\n",
    "        if len(el.text)<250:\n",
    "            try: captions.append(re.sub('[\\s]+', ' ', remove_non_ascii_1(el.text) ).strip()  )\n",
    "            except: pass\n",
    "        \n",
    "    return captions\n",
    "\n",
    "\n",
    "#### example\n",
    "url = 'http://www.newyorksocialdiary.com/party-pictures/2015/celebrating-the-neighborhood'\n",
    "captions = get_captions(url)\n",
    "captions_2 = [remove_non_ascii_1(caption) for caption in captions]"
   ]
  },
  {
   "cell_type": "markdown",
   "metadata": {},
   "source": [
    "## Phase Three\n",
    "Extract the names from the photocaptions.   \n",
    "In the example \"Richard and Donna Soloway\" nltk can extract the names \"Richard\", \"Donna Soloway\" instead of \"Richard Soloway\", \"Donna Soloway\". To correct this we propose two solutions. The first solution is implemented with **nltk**."
   ]
  },
  {
   "cell_type": "code",
   "execution_count": 8,
   "metadata": {
    "collapsed": true
   },
   "outputs": [],
   "source": [
    "import nltk\n",
    "from nameparser.parser import HumanName\n",
    "#nltk.help.upenn_tagset()\n",
    "\n",
    "def get_human_names_v1(text):\n",
    "    \n",
    "    tokens = nltk.tokenize.word_tokenize(text)\n",
    "    pos    = nltk.pos_tag(tokens)                # assign a part of speech to every token\n",
    "    sentt  = nltk.ne_chunk(pos, binary = False)  # chunking\n",
    "\n",
    "    names_list = []\n",
    "    tmp = None          # in cases of the form: \"John and Ally FAMILY_NAME\", tmp has to catch 'John'.\n",
    "                        # This variable is used later in the reconstruction of \"John FAMILY_NAME\"\n",
    "    \n",
    "    for subtree in sentt.subtrees(filter = lambda x: x.label() == 'PERSON'):\n",
    "    \n",
    "        person = []\n",
    "        for leaf in subtree.leaves():\n",
    "            person.append(leaf[0])\n",
    "\n",
    "        if len(person)>1:\n",
    "            # if the person has FIRST_NAME and FAMILY_NAME then assign it to the list\n",
    "            names_list.append( ' '.join(person) )\n",
    "        \n",
    "            # if there is a person from the previous subtree without a FAMILY_NAME then assign it to the FAMILY_NAME \n",
    "            # from the current subtree\n",
    "            if tmp is not None:\n",
    "                names_list.append( ' '.join([tmp, person[-1]]) )\n",
    "                tmp = None\n",
    "\n",
    "        # if the person has only a FIRST_NAME then assign to it a FAMILY_NAME from the next subtree\n",
    "        elif len(person)==1:\n",
    "            tmp = person[0]\n",
    "\n",
    "    return (names_list)"
   ]
  },
  {
   "cell_type": "markdown",
   "metadata": {},
   "source": [
    "The second solution is implemented with **spacy**."
   ]
  },
  {
   "cell_type": "code",
   "execution_count": 9,
   "metadata": {
    "collapsed": true
   },
   "outputs": [],
   "source": [
    "import spacy\n",
    "nlp = spacy.load('en')\n",
    "\n",
    "def get_human_names_v2(text):\n",
    "\n",
    "    names_list = []\n",
    "    \n",
    "    if len(text)==0:\n",
    "        return names_list\n",
    "    \n",
    "    doc = nlp(text)\n",
    "    t_var = None\n",
    "    \n",
    "    for id, ent in enumerate(doc.ents):\n",
    "        if ent.label_=='PERSON':        \n",
    "            if len(ent.text.split())==1: \n",
    "                t_var = ent.text\n",
    "                \n",
    "            if len(ent.text.split())>1:  \n",
    "                names_list.append( ent.text.strip() )\n",
    "                if t_var is not None:\n",
    "                    names_list.append( t_var + ' ' + ent.text.split()[-1] ) \n",
    "                    t_var = None\n",
    "    return names_list"
   ]
  },
  {
   "cell_type": "markdown",
   "metadata": {},
   "source": [
    "In the following we will apply the three solutions to two examples and see that none of them works perfectly."
   ]
  },
  {
   "cell_type": "code",
   "execution_count": 10,
   "metadata": {},
   "outputs": [
    {
     "name": "stdout",
     "output_type": "stream",
     "text": [
      "Kamie Lightburn and Christopher Spitzmiller\n",
      "[u'Christopher Spitzmiller', u'Kamie Spitzmiller']\n",
      "[u'Kamie Lightburn', u'Christopher Spitzmiller']\n",
      "\n",
      "\n",
      "\n",
      "Kathy and Othon Prounis\n",
      "[u'Othon Prounis', u'Kathy Prounis']\n",
      "[]\n",
      "\n",
      "\n",
      "\n",
      "Rick and Leticia Presutti\n",
      "[u'Leticia Presutti', u'Rick Presutti']\n",
      "[u'Leticia Presutti', u'Rick Presutti']\n"
     ]
    }
   ],
   "source": [
    "text_1 = u'Kamie Lightburn and Christopher Spitzmiller'\n",
    "text_2 = u'Kathy and Othon Prounis'\n",
    "text_3 = u'Rick and Leticia Presutti'\n",
    "\n",
    "print text_1\n",
    "print get_human_names_v1(text_1)\n",
    "print get_human_names_v2(text_1)\n",
    "print '\\n\\n'\n",
    "\n",
    "print text_2\n",
    "print get_human_names_v1(text_2)\n",
    "print get_human_names_v2(text_2)\n",
    "print '\\n\\n'\n",
    "\n",
    "print text_3\n",
    "print get_human_names_v1(text_3)\n",
    "print get_human_names_v2(text_3)"
   ]
  },
  {
   "cell_type": "markdown",
   "metadata": {},
   "source": [
    "## Phase Four\n",
    "\n",
    "Parse all of the captions and extract all the names.  \n",
    "Run this for all of the pages.  "
   ]
  },
  {
   "cell_type": "code",
   "execution_count": 11,
   "metadata": {
    "collapsed": true
   },
   "outputs": [],
   "source": [
    "# Scraping all of the pages could take several minutes.\n",
    "\n",
    "url_list = [generate_actual_url(it) for it in range(30)]\n",
    "cut_date = datetime.strptime('2007-12-01 00:00:00', '%Y-%m-%d %H:%M:%S')\n",
    "\n",
    "\n",
    "session = FuturesSession(max_workers=10)\n",
    "futures =  [session.get(url) for url in url_list]\n",
    "\n",
    "\n",
    "all_links, all_dates = [], []\n",
    "\n",
    "for future in futures:\n",
    "    links, dates = get_list_with_links(future)\n",
    "    all_links.extend(links)\n",
    "    all_dates.extend(dates)\n",
    "\n",
    "\n",
    "df = pd.DataFrame({'links': all_links, 'dates': all_dates})\n",
    "df = df[df['dates']<=cut_date]\n",
    "\n",
    "list_caption_list = [get_captions('http://www.newyorksocialdiary.com' + row['links']) for index, row in df.iterrows()] \n",
    "\n",
    "list_list_list_name = [[sorted(get_human_names_v2(caption)) for caption in caption_list] for caption_list in list_caption_list]"
   ]
  },
  {
   "cell_type": "markdown",
   "metadata": {},
   "source": [
    "### Histogram of the number of photo-captions per page"
   ]
  },
  {
   "cell_type": "code",
   "execution_count": 12,
   "metadata": {},
   "outputs": [
    {
     "data": {
      "image/png": "[encoded data removed]",
      "text/plain": [
       "<matplotlib.figure.Figure at 0x2ac37470>"
      ]
     },
     "metadata": {},
     "output_type": "display_data"
    }
   ],
   "source": [
    "%matplotlib inline\n",
    "import matplotlib.pyplot as plt\n",
    "\n",
    "captions_found = [len(caption_list) for caption_list in list_caption_list]\n",
    "\n",
    "plt.figure(figsize=(10,4))\n",
    "\n",
    "plt.hist( captions_found, bins=20 )\n",
    "plt.xlabel( 'number of captions per page' )\n",
    "plt.ylabel( 'counts' )\n",
    "plt.tight_layout()\n",
    "\n",
    "plt.show()"
   ]
  },
  {
   "cell_type": "markdown",
   "metadata": {},
   "source": [
    "For the remaining analysis, we think of the problem in terms of a\n",
    "[network](http://en.wikipedia.org/wiki/Computer_network) or a\n",
    "[graph](https://en.wikipedia.org/wiki/Graph_%28discrete_mathematics%29).  Any time a pair of people appear in a photo together, that is considered a link.  What we have described is more appropriately called an (undirected)\n",
    "[multigraph](http://en.wikipedia.org/wiki/Multigraph) with no self-loops but this has an obvious analog in terms of an undirected [weighted graph](http://en.wikipedia.org/wiki/Graph_%28mathematics%29#Weighted_graph).  In this problem, we will analyze the social graph of the new york social elite.  We recommend using python's [networkx](https://networkx.github.io/) library."
   ]
  },
  {
   "cell_type": "markdown",
   "metadata": {},
   "source": [
    "## The most popular person\n",
    "\n",
    "From every caption generate all possible pairs of names.  \n",
    "Use this pairs to construct an undirected graph.  \n",
    "The weight of every edge is equal to the number of times a given pair appears together in a photocaption.  \n",
    "\n",
    "We will use this graph to answer the question who is the most popular."
   ]
  },
  {
   "cell_type": "code",
   "execution_count": 21,
   "metadata": {
    "collapsed": true
   },
   "outputs": [],
   "source": [
    "import itertools\n",
    "import networkx as nx\n",
    "\n",
    "def get_APP_of_names_from_list_names(list_names):\n",
    "    '''\n",
    "    generate all possible pairs of names that appear in the same caption\n",
    "    '''\n",
    "    APP = []\n",
    "    for j in range(len(list_names)):\n",
    "        for i in range(j):\n",
    "            APP.append( [list_names[i], list_names[j]] )\n",
    "    return APP\n",
    "\n",
    "\n",
    "################################################################################ Graph generation\n",
    "# the lists of names and of pairs of names are already ordered alphabetically\n",
    "G=nx.Graph()\n",
    "for list_list_name in list_list_list_name:\n",
    "    for list_name in list_list_name:\n",
    "        APP = get_APP_of_names_from_list_names(list_name)\n",
    "        \n",
    "        # crete all edges between pairs of friends\n",
    "        for pair in APP:\n",
    "            if G.has_edge(pair[0], pair[1]):\n",
    "                G[pair[0]][pair[1]]['weight'] += 1\n",
    "            else:\n",
    "                G.add_edge(pair[0], pair[1], weight=1)\n",
    "\n",
    "\n",
    "################################################################################ person_pop\n",
    "person_pop = {}\n",
    "for node in G.nodes:\n",
    "    person_pop[node] = 0\n",
    "    for edge in G.edges(node, data=True): \n",
    "        person_pop[node] += edge[2]['weight']\n",
    "\n",
    "person_pop_list = []\n",
    "for key, value in person_pop.iteritems(): \n",
    "    person_pop_list.append( [key,value] )\n",
    "\n",
    "person_pop_list.sort(key=lambda x: x[1], reverse=True)\n",
    "\n",
    "ten_most_popular_people = [ (str(person_pop_list[i][0]),person_pop_list[i][1]) for i in range(10)]"
   ]
  },
  {
   "cell_type": "code",
   "execution_count": 22,
   "metadata": {
    "scrolled": true
   },
   "outputs": [
    {
     "data": {
      "text/plain": [
       "[('Gillian Miniter', 81),\n",
       " ('Deborah Norville', 55),\n",
       " ('Andrew Saffir', 41),\n",
       " ('Marty Richards', 37),\n",
       " ('Jamee Gregory', 37),\n",
       " ('Jill Zarin', 37),\n",
       " ('Ellen V. Futter', 36),\n",
       " ('Cynthia Lufkin', 36),\n",
       " ('Debbie Bancroft', 35),\n",
       " ('Fernanda Kellogg', 34)]"
      ]
     },
     "execution_count": 22,
     "metadata": {},
     "output_type": "execute_result"
    }
   ],
   "source": [
    "ten_most_popular_people"
   ]
  },
  {
   "cell_type": "markdown",
   "metadata": {},
   "source": [
    "## The most popular person (pagerank)\n",
    "\n",
    "A similar way to determine popularity is to look at their\n",
    "[pagerank](http://en.wikipedia.org/wiki/PageRank).  Pagerank is used for web ranking and was originally\n",
    "[patented](http://patft.uspto.gov/netacgi/nph-Parser?patentnumber=6285999) by Google and is essentially the stationary distribution of a [markov\n",
    "chain](http://en.wikipedia.org/wiki/Markov_chain) implied by the social graph.\n",
    "\n",
    "We will use 0.85 as the damping parameter so that there is a 15% chance of jumping to another vertex at random."
   ]
  },
  {
   "cell_type": "code",
   "execution_count": 20,
   "metadata": {},
   "outputs": [
    {
     "data": {
      "text/plain": [
       "[[u'Gillian Miniter', 0.0013686007892371246],\n",
       " [u'Andrew Saffir', 0.0009334846969569304],\n",
       " [u'Deborah Norville', 0.0008149484230269106],\n",
       " [u'Marty Richards', 0.0007411259569899076],\n",
       " [u'Debbie Bancroft', 0.0006843209817207661],\n",
       " [u'Jamee Gregory', 0.0006835008585135931],\n",
       " [u'David Dinkins', 0.0006310602890995364],\n",
       " [u'Fernanda Kellogg', 0.000614329015347217],\n",
       " [u'Cynthia Lufkin', 0.0006141223066461702],\n",
       " [u'Dennis Basso', 0.0006116859272215007]]"
      ]
     },
     "execution_count": 20,
     "metadata": {},
     "output_type": "execute_result"
    }
   ],
   "source": [
    "pr = nx.pagerank(G, alpha=0.85)\n",
    "\n",
    "pr_list = []\n",
    "for key, value in pr.iteritems(): pr_list.append( [key,value] )\n",
    "\n",
    "pr_list.sort(key=lambda x: x[1], reverse=True)\n",
    "\n",
    "pr_list[:10]"
   ]
  },
  {
   "cell_type": "markdown",
   "metadata": {},
   "source": [
    "## Best friends\n",
    "\n",
    "Another interesting question is who tend to co-occur with each other.  \n",
    "We will get the 10 edges with the highest weights."
   ]
  },
  {
   "cell_type": "code",
   "execution_count": 26,
   "metadata": {},
   "outputs": [
    {
     "data": {
      "text/plain": [
       "[[(u'Peter Gregory', u'Jamee Gregory'), 8],\n",
       " [(u'Dan Lufkin', u'Cynthia Lufkin'), 8],\n",
       " [(u'Barbara Tober', u'Donald Tober'), 8],\n",
       " [(u'John K. Castle', u'John J. Connolly'), 8],\n",
       " [(u'Deborah Norville', u'Karl Wellner'), 7],\n",
       " [(u'Andrew Saffir', u'Daniel Benedict'), 6],\n",
       " [(u'Ann Leary', u'Dani Shapiro'), 6],\n",
       " [(u'Rachel Roy', u'Damon Dash'), 6],\n",
       " [(u'Bobby Zarin', u'Jill Zarin'), 6],\n",
       " [(u'Lauren Bush', u'David Lauren'), 5]]"
      ]
     },
     "execution_count": 26,
     "metadata": {},
     "output_type": "execute_result"
    }
   ],
   "source": [
    "couples_list = []\n",
    "\n",
    "for edge in G.edges(data=True):\n",
    "    couples_list.append( [ (edge[0],edge[1]), edge[2]['weight']] )\n",
    "\n",
    "couples_list.sort(key=lambda x: x[1], reverse=True)\n",
    "\n",
    "couples_list[:10]"
   ]
  },
  {
   "cell_type": "code",
   "execution_count": null,
   "metadata": {
    "collapsed": true
   },
   "outputs": [],
   "source": []
  },
  {
   "cell_type": "code",
   "execution_count": null,
   "metadata": {
    "collapsed": true
   },
   "outputs": [],
   "source": []
  },
  {
   "cell_type": "code",
   "execution_count": null,
   "metadata": {
    "collapsed": true
   },
   "outputs": [],
   "source": []
  },
  {
   "cell_type": "code",
   "execution_count": null,
   "metadata": {
    "collapsed": true
   },
   "outputs": [],
   "source": []
  },
  {
   "cell_type": "code",
   "execution_count": null,
   "metadata": {
    "collapsed": true
   },
   "outputs": [],
   "source": []
  },
  {
   "cell_type": "code",
   "execution_count": null,
   "metadata": {
    "collapsed": true
   },
   "outputs": [],
   "source": [
    "def get_human_names_v1(text):\n",
    "    \n",
    "    tokens = nltk.tokenize.word_tokenize(text)\n",
    "    pos    = nltk.pos_tag(tokens)                # assign a part of speech to every token\n",
    "    sentt  = nltk.ne_chunk(pos, binary = False)  # chunking\n",
    "\n",
    "    names_list = []\n",
    "    \n",
    "    for subtree in sentt.subtrees(filter = lambda x: x.label() == 'PERSON'):\n",
    "    \n",
    "        person = []\n",
    "        for leaf in subtree.leaves():\n",
    "            person.append(leaf[0])\n",
    "\n",
    "        if len(person)>1:\n",
    "            # if the person has FIRST_NAME and FAMILY_NAME then assign it to the list\n",
    "            names_list.append( ' '.join(person) )\n",
    "\n",
    "    return (names_list)\n",
    "\n",
    "\n",
    "\n"
   ]
  },
  {
   "cell_type": "code",
   "execution_count": null,
   "metadata": {
    "collapsed": true
   },
   "outputs": [],
   "source": [
    "#text   = captions_2[2]\n",
    "#tokens = nltk.tokenize.word_tokenize(text)\n",
    "#pos    = nltk.pos_tag(tokens)                # assign a part of speech to every token\n",
    "#sentt  = nltk.ne_chunk(pos, binary = False) \n",
    "#\n",
    "#print captions_2[2]\n",
    "#print tokens\n",
    "#print pos\n",
    "#sentt"
   ]
  }
 ],
 "metadata": {
  "kernelspec": {
   "display_name": "Python 2",
   "language": "python",
   "name": "python2"
  },
  "language_info": {
   "codemirror_mode": {
    "name": "ipython",
    "version": 2
   },
   "file_extension": ".py",
   "mimetype": "text/x-python",
   "name": "python",
   "nbconvert_exporter": "python",
   "pygments_lexer": "ipython2",
   "version": "2.7.14"
  }
 },
 "nbformat": 4,
 "nbformat_minor": 2
}
